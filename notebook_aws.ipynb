{
  "cells": [
    {
      "cell_type": "code",
      "execution_count": 1,
      "metadata": {},
      "outputs": [],
      "source": [
        "import pandas as pd\n",
        "import numpy as np\n",
        "import importlib\n",
        "import awswrangler as wr\n",
        "from application.modeling import helper\n",
        "from application.modeling.constants import MY_SESSION, S3_CLIENT, FileStage\n",
        "\n",
        "\n",
        "pd.options.display.max_columns = None\n",
        "pd.options.display.max_rows = 100\n",
        "pd.options.display.float_format = \"{:,.2f}\".format"
      ]
    },
    {
      "cell_type": "code",
      "execution_count": 2,
      "metadata": {},
      "outputs": [
        {
          "data": {
            "text/plain": [
              "<module 'application.modeling.helper' from 'c:\\\\Users\\\\HP\\\\Desktop\\\\Claxon\\\\Budgeting\\\\manage-tenants-template\\\\application\\\\modeling\\\\helper.py'>"
            ]
          },
          "execution_count": 2,
          "metadata": {},
          "output_type": "execute_result"
        }
      ],
      "source": [
        "importlib.reload(helper)"
      ]
    },
    {
      "cell_type": "code",
      "execution_count": 3,
      "metadata": {},
      "outputs": [],
      "source": [
        "bucket_name = \"zimnat-budgeting\"\n",
        "tenant_name = bucket_name\n",
        "project_id = 2\n",
        "VALUATION_DATE = \"2023-01\"\n",
        "MONTHS_TO_FORECAST = 12"
      ]
    },
    {
      "cell_type": "code",
      "execution_count": 16,
      "metadata": {},
      "outputs": [
        {
          "data": {
            "text/plain": [
              "Jan-2023   2,979,866.22\n",
              "Feb-2023   2,979,866.22\n",
              "Mar-2023   2,979,866.22\n",
              "Apr-2023   2,979,866.22\n",
              "May-2023   2,979,866.22\n",
              "Jun-2023   2,979,866.22\n",
              "Jul-2023   2,979,866.22\n",
              "Aug-2023   2,979,866.22\n",
              "Sep-2023   2,979,866.22\n",
              "Oct-2023   2,979,866.22\n",
              "Nov-2023   2,979,366.27\n",
              "Dec-2023   2,979,024.08\n",
              "Name: total, dtype: float64"
            ]
          },
          "execution_count": 16,
          "metadata": {},
          "output_type": "execute_result"
        }
      ],
      "source": [
        "file_stage = FileStage.intermediate\n",
        "net_book_values_df = wr.s3.read_parquet(\n",
        "    f\"s3://{bucket_name}/project_{project_id}/{file_stage.value}/net_book_values_df.parquet\",\n",
        "    boto3_session=MY_SESSION,\n",
        ")\n",
        "\n",
        "\n",
        "net_book_values_df['total']"
      ]
    },
    {
      "cell_type": "code",
      "execution_count": null,
      "metadata": {},
      "outputs": [],
      "source": []
    }
  ],
  "metadata": {
    "kernelspec": {
      "display_name": "venv",
      "language": "python",
      "name": "python3"
    },
    "language_info": {
      "codemirror_mode": {
        "name": "ipython",
        "version": 3
      },
      "file_extension": ".py",
      "mimetype": "text/x-python",
      "name": "python",
      "nbconvert_exporter": "python",
      "pygments_lexer": "ipython3",
      "version": "3.11.4"
    },
    "orig_nbformat": 4
  },
  "nbformat": 4,
  "nbformat_minor": 2
}
