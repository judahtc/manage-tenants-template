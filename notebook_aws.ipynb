{
  "cells": [
    {
      "cell_type": "code",
      "execution_count": 16,
      "metadata": {},
      "outputs": [],
      "source": [
        "import pandas as pd\n",
        "import numpy as np\n",
        "import importlib\n",
        "import awswrangler as wr\n",
        "from application.modeling import helper\n",
        "from application.modeling.constants import MY_SESSION, S3_CLIENT, FileStage\n",
        "\n",
        "\n",
        "pd.options.display.max_columns = None\n",
        "pd.options.display.max_rows = 100\n",
        "pd.options.display.float_format = \"{:,.2f}\".format"
      ]
    },
    {
      "cell_type": "code",
      "execution_count": 17,
      "metadata": {},
      "outputs": [
        {
          "data": {
            "text/plain": [
              "<module 'application.modeling.helper' from 'c:\\\\Users\\\\HP\\\\Desktop\\\\Claxon\\\\Budgeting\\\\manage-tenants-template\\\\application\\\\modeling\\\\helper.py'>"
            ]
          },
          "execution_count": 17,
          "metadata": {},
          "output_type": "execute_result"
        }
      ],
      "source": [
        "importlib.reload(helper)"
      ]
    },
    {
      "cell_type": "code",
      "execution_count": 18,
      "metadata": {},
      "outputs": [],
      "source": [
        "bucket_name = \"zimnat-budgeting\"\n",
        "tenant_name = bucket_name\n",
        "project_id = 2\n",
        "VALUATION_DATE = \"2023-01\"\n",
        "MONTHS_TO_FORECAST = 12"
      ]
    },
    {
      "cell_type": "code",
      "execution_count": 24,
      "metadata": {},
      "outputs": [
        {
          "data": {
            "text/html": [
              "<div>\n",
              "<style scoped>\n",
              "    .dataframe tbody tr th:only-of-type {\n",
              "        vertical-align: middle;\n",
              "    }\n",
              "\n",
              "    .dataframe tbody tr th {\n",
              "        vertical-align: top;\n",
              "    }\n",
              "\n",
              "    .dataframe thead th {\n",
              "        text-align: right;\n",
              "    }\n",
              "</style>\n",
              "<table border=\"1\" class=\"dataframe\">\n",
              "  <thead>\n",
              "    <tr style=\"text-align: right;\">\n",
              "      <th></th>\n",
              "      <th>effective_date</th>\n",
              "      <th>institution</th>\n",
              "      <th>nominal_amount</th>\n",
              "      <th>interest_rate</th>\n",
              "      <th>tenure</th>\n",
              "      <th>repayment_frequency</th>\n",
              "      <th>frequency</th>\n",
              "      <th>method</th>\n",
              "    </tr>\n",
              "  </thead>\n",
              "  <tbody>\n",
              "    <tr>\n",
              "      <th>0</th>\n",
              "      <td>31/12/2023</td>\n",
              "      <td>ZIMNAT LIFE ASSURANCE</td>\n",
              "      <td>376455</td>\n",
              "      <td>0.06</td>\n",
              "      <td>12</td>\n",
              "      <td>Monthly (P+I)</td>\n",
              "      <td>12</td>\n",
              "      <td>reducing_balance</td>\n",
              "    </tr>\n",
              "    <tr>\n",
              "      <th>1</th>\n",
              "      <td>06/05/2024</td>\n",
              "      <td>MASAWARA</td>\n",
              "      <td>5613</td>\n",
              "      <td>0.06</td>\n",
              "      <td>12</td>\n",
              "      <td>Monthly (P+I)</td>\n",
              "      <td>12</td>\n",
              "      <td>reducing_balance</td>\n",
              "    </tr>\n",
              "  </tbody>\n",
              "</table>\n",
              "</div>"
            ],
            "text/plain": [
              "  effective_date            institution  nominal_amount  interest_rate  \\\n",
              "0     31/12/2023  ZIMNAT LIFE ASSURANCE          376455           0.06   \n",
              "1     06/05/2024              MASAWARA             5613           0.06   \n",
              "\n",
              "   tenure repayment_frequency  frequency            method  \n",
              "0      12      Monthly (P+I)          12  reducing_balance  \n",
              "1      12      Monthly (P+I)          12  reducing_balance  "
            ]
          },
          "execution_count": 24,
          "metadata": {},
          "output_type": "execute_result"
        }
      ],
      "source": [
        "file_stage = FileStage.raw\n",
        "details_of_new_short_term_borrowing = wr.s3.read_parquet(\n",
        "    f\"s3://{bucket_name}/project_{project_id}/{file_stage.value}/details_of_new_short_term_borrowing.parquet\",\n",
        "    boto3_session=MY_SESSION,\n",
        ")\n",
        "\n",
        "\n",
        "details_of_new_short_term_borrowing"
      ]
    },
    {
      "cell_type": "code",
      "execution_count": 20,
      "metadata": {},
      "outputs": [],
      "source": []
    },
    {
      "cell_type": "code",
      "execution_count": null,
      "metadata": {},
      "outputs": [],
      "source": []
    }
  ],
  "metadata": {
    "kernelspec": {
      "display_name": "venv",
      "language": "python",
      "name": "python3"
    },
    "language_info": {
      "codemirror_mode": {
        "name": "ipython",
        "version": 3
      },
      "file_extension": ".py",
      "mimetype": "text/x-python",
      "name": "python",
      "nbconvert_exporter": "python",
      "pygments_lexer": "ipython3",
      "version": "3.11.4"
    },
    "orig_nbformat": 4
  },
  "nbformat": 4,
  "nbformat_minor": 2
}
